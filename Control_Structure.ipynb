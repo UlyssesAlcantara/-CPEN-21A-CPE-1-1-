{
  "nbformat": 4,
  "nbformat_minor": 0,
  "metadata": {
    "colab": {
      "name": "Control Structure.ipynb",
      "provenance": [],
      "authorship_tag": "ABX9TyPxlC5LBqCZZ6+PZprJ+moO",
      "include_colab_link": true
    },
    "kernelspec": {
      "name": "python3",
      "display_name": "Python 3"
    },
    "language_info": {
      "name": "python"
    }
  },
  "cells": [
    {
      "cell_type": "markdown",
      "metadata": {
        "id": "view-in-github",
        "colab_type": "text"
      },
      "source": [
        "<a href=\"https://colab.research.google.com/github/UlyssesAlcantara/-CPEN-21A-CPE-1-1-/blob/main/Control_Structure.ipynb\" target=\"_parent\"><img src=\"https://colab.research.google.com/assets/colab-badge.svg\" alt=\"Open In Colab\"/></a>"
      ]
    },
    {
      "cell_type": "markdown",
      "metadata": {
        "id": "9vsdqtTzm_2x"
      },
      "source": [
        "If Statement"
      ]
    },
    {
      "cell_type": "code",
      "metadata": {
        "colab": {
          "base_uri": "https://localhost:8080/"
        },
        "id": "07R5dx0VnKy2",
        "outputId": "817bb111-b30c-4120-f7cc-9f6963f45df5"
      },
      "source": [
        "a = 12\n",
        "b = 100\n",
        "\n",
        "if b>a:\n",
        "  print(\"b is greater than a\")"
      ],
      "execution_count": 13,
      "outputs": [
        {
          "output_type": "stream",
          "name": "stdout",
          "text": [
            "b is greater than a\n"
          ]
        }
      ]
    },
    {
      "cell_type": "markdown",
      "metadata": {
        "id": "rCqtyHeKo2aG"
      },
      "source": [
        "Elif Condition"
      ]
    },
    {
      "cell_type": "code",
      "metadata": {
        "colab": {
          "base_uri": "https://localhost:8080/"
        },
        "id": "b8KyolGTpBPF",
        "outputId": "050b5f17-2678-4abe-a4c8-f5a6ce8e4578"
      },
      "source": [
        "a = 12\n",
        "b = 12\n",
        "if b>a:\n",
        "  print(\"b is greater than a\")\n",
        "elif a==b:\n",
        "  print(\"a and b are equal\") \n"
      ],
      "execution_count": 4,
      "outputs": [
        {
          "output_type": "stream",
          "name": "stdout",
          "text": [
            "a and b are equal\n"
          ]
        }
      ]
    },
    {
      "cell_type": "code",
      "metadata": {
        "colab": {
          "base_uri": "https://localhost:8080/"
        },
        "id": "Tk0_9agEpoHl",
        "outputId": "ae3e4e61-da2c-46b2-ad6d-b9d6df79f2df"
      },
      "source": [
        "a = 120\n",
        "b = 12\n",
        "if b>a:\n",
        "  print(\"b is greater than a\")\n",
        "elif a==b:\n",
        "  print(\"a and b are equal\")\n",
        "else:\n",
        " print(\"b is less than a\")\n"
      ],
      "execution_count": 17,
      "outputs": [
        {
          "output_type": "stream",
          "name": "stdout",
          "text": [
            "b is less than a\n"
          ]
        }
      ]
    },
    {
      "cell_type": "markdown",
      "metadata": {
        "id": "sssOSQpirHVu"
      },
      "source": [
        "Short Hand If Statement"
      ]
    },
    {
      "cell_type": "code",
      "metadata": {
        "colab": {
          "base_uri": "https://localhost:8080/"
        },
        "id": "Y8hiV5ydrLjU",
        "outputId": "c8c1b319-a4f2-4302-c76c-3a012b8c2722"
      },
      "source": [
        "if a>b:print(\"a is greater than b\")"
      ],
      "execution_count": 8,
      "outputs": [
        {
          "output_type": "stream",
          "name": "stdout",
          "text": [
            "a is greater than b\n"
          ]
        }
      ]
    },
    {
      "cell_type": "markdown",
      "metadata": {
        "id": "FVAfzlzwrVkw"
      },
      "source": [
        "##Short Hand If.... Else Statement"
      ]
    },
    {
      "cell_type": "code",
      "metadata": {
        "colab": {
          "base_uri": "https://localhost:8080/"
        },
        "id": "asp_7H4Mrf9L",
        "outputId": "447ea5bc-bece-47e5-c862-937f9d6d8d44"
      },
      "source": [
        "print(\"a is greter than b\") if a>b else print(\"b is greter than a\")"
      ],
      "execution_count": 16,
      "outputs": [
        {
          "output_type": "stream",
          "name": "stdout",
          "text": [
            "a is greter than b\n"
          ]
        }
      ]
    },
    {
      "cell_type": "markdown",
      "metadata": {
        "id": "pz8Jz8yasJ-r"
      },
      "source": [
        " And Conditions\n"
      ]
    },
    {
      "cell_type": "code",
      "metadata": {
        "colab": {
          "base_uri": "https://localhost:8080/"
        },
        "id": "i077tYm9uV0f",
        "outputId": "4a2b772b-80fb-4d63-e29c-c7d6e576da7e"
      },
      "source": [
        "a = 15\n",
        "b = 35\n",
        "\n",
        "if b>a and a<b:\n",
        "  print(\"Both Conditions are true\")\n",
        "elif b<a and a>b:\n",
        "  print(\"a is larger than b\")\n",
        "else:\n",
        "  print(\"none of the above\")"
      ],
      "execution_count": 22,
      "outputs": [
        {
          "output_type": "stream",
          "name": "stdout",
          "text": [
            "Both Conditions are true\n"
          ]
        }
      ]
    },
    {
      "cell_type": "markdown",
      "metadata": {
        "id": "EeQkgcMmvQ1i"
      },
      "source": [
        "Or Condition"
      ]
    },
    {
      "cell_type": "code",
      "metadata": {
        "colab": {
          "base_uri": "https://localhost:8080/"
        },
        "id": "8x15q99TvYBK",
        "outputId": "68425566-5bce-419f-b6e5-fbec2f361488"
      },
      "source": [
        "a = 15\n",
        "b = 35\n",
        "\n",
        "if b>a or a==b:\n",
        "  print(\"True\")\n",
        "elif b==b or a>b:\n",
        "  print(\"Absulutely True\")\n",
        "else:\n",
        "  print(\"Nothing to compare\")\n"
      ],
      "execution_count": 24,
      "outputs": [
        {
          "output_type": "stream",
          "name": "stdout",
          "text": [
            "True\n"
          ]
        }
      ]
    },
    {
      "cell_type": "markdown",
      "metadata": {
        "id": "xlVex3abwrLi"
      },
      "source": [
        "Nested If"
      ]
    },
    {
      "cell_type": "code",
      "metadata": {
        "colab": {
          "base_uri": "https://localhost:8080/"
        },
        "id": "pHUVRPnCwu8C",
        "outputId": "9ffc5ba1-e6dd-4387-8989-dbdcddd1299a"
      },
      "source": [
        "x = 41\n",
        "if x>10:\n",
        "  print(\"Above 10\")\n",
        "  if x>20:\n",
        "    print(\"above 20\")\n",
        "  else:\n",
        "    print(\"Not above 20\")   "
      ],
      "execution_count": 25,
      "outputs": [
        {
          "output_type": "stream",
          "name": "stdout",
          "text": [
            "Above 10\n",
            "above 20\n"
          ]
        }
      ]
    },
    {
      "cell_type": "markdown",
      "metadata": {
        "id": "_QJR64EryBLz"
      },
      "source": [
        "Application of if.. Else Statement"
      ]
    },
    {
      "cell_type": "code",
      "metadata": {
        "colab": {
          "base_uri": "https://localhost:8080/"
        },
        "id": "WV9ssAcAyQM5",
        "outputId": "28d7add2-2f2d-4e83-833d-68c7d35b650e"
      },
      "source": [
        "#Example 1\n",
        "age = int(input(\"Enter your age \"))\n",
        "\n",
        "if age>=18:\n",
        "  print(\"You are qualified to vote!\")\n",
        "else:\n",
        "  print(\"You are not qualified to vote!\")"
      ],
      "execution_count": 43,
      "outputs": [
        {
          "output_type": "stream",
          "name": "stdout",
          "text": [
            "Enter your age 18\n",
            "You are qualified to vote!\n"
          ]
        }
      ]
    },
    {
      "cell_type": "code",
      "metadata": {
        "colab": {
          "base_uri": "https://localhost:8080/"
        },
        "id": "VZW6NxYT3XOa",
        "outputId": "4a652e1e-fd3f-4818-b96b-3840bd9069b5"
      },
      "source": [
        "#Example 3\n",
        "\n",
        "grade = int(input(\"enter the Grade:\"))\n",
        "\n",
        "if grade>=75:\n",
        "  print(\"Passed\")\n",
        "elif grade==74:\n",
        "  print(\"Remedial\")\n",
        "else:\n",
        "  print(\"Failed\")"
      ],
      "execution_count": 51,
      "outputs": [
        {
          "output_type": "stream",
          "name": "stdout",
          "text": [
            "enter the Grade:80\n",
            "Passed\n"
          ]
        }
      ]
    }
  ]
}